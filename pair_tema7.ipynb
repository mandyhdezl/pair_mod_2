{
 "cells": [
  {
   "cell_type": "code",
   "execution_count": 16,
   "metadata": {},
   "outputs": [],
   "source": [
    "import mysql.connector\n",
    "from mysql.connector import errorcode"
   ]
  },
  {
   "cell_type": "code",
   "execution_count": 17,
   "metadata": {},
   "outputs": [],
   "source": [
    "try:\n",
    "  cnx = mysql.connector.connect(user='root', password='AlumnaAdalab',\n",
    "                              host='127.0.0.1',\n",
    "                              database='northwind')\n",
    "# en caso de que no lo consigas por que hay algún error entonces ...\n",
    "except mysql.connector.Error as err:\n",
    "\n",
    "  # si es un error con la contraseña devuelveme un mensaje de acceso denegado ya que tenemos problemas con la contraseña\n",
    "  if err.errno == errorcode.ER_ACCESS_DENIED_ERROR:\n",
    "    print(\"Something is wrong with your user name or password\")\n",
    "  \n",
    "  # si el error no tiene que ver con la contraseña, puede ser porque la base de datos no exista, devuelveme un mensaje de que la base de datos no existe\n",
    "  elif err.errno == errorcode.ER_BAD_DB_ERROR:\n",
    "    print(\"Database does not exist\")\n",
    "  \n",
    "  # si no es por ninguno de los errores anteriores, printeame cual es el error que estoy teniendo en mi conexión\n",
    "  else:\n",
    "    print(err)\n"
   ]
  },
  {
   "cell_type": "code",
   "execution_count": 26,
   "metadata": {},
   "outputs": [],
   "source": [
    "mycursor=cnx.cursor()"
   ]
  },
  {
   "cell_type": "code",
   "execution_count": 33,
   "metadata": {},
   "outputs": [],
   "source": [
    "query_information=(\"\"\"SELECT COLUMN_NAME \n",
    "                        FROM INFORMATION_SCHEMA.COLUMNS \n",
    "                        WHERE TABLE_NAME = 'customers' AND table_schema = 'northwind';\"\"\")"
   ]
  },
  {
   "cell_type": "code",
   "execution_count": 34,
   "metadata": {},
   "outputs": [],
   "source": [
    "mycursor.execute(query_information)\n"
   ]
  },
  {
   "cell_type": "code",
   "execution_count": 35,
   "metadata": {},
   "outputs": [
    {
     "data": {
      "text/plain": [
       "[('Address',),\n",
       " ('City',),\n",
       " ('CompanyName',),\n",
       " ('ContactName',),\n",
       " ('ContactTitle',),\n",
       " ('Country',),\n",
       " ('CustomerID',),\n",
       " ('Fax',),\n",
       " ('Phone',),\n",
       " ('PostalCode',),\n",
       " ('Region',)]"
      ]
     },
     "execution_count": 35,
     "metadata": {},
     "output_type": "execute_result"
    }
   ],
   "source": [
    "mycursor.fetchall()"
   ]
  },
  {
   "cell_type": "code",
   "execution_count": 36,
   "metadata": {},
   "outputs": [],
   "source": [
    "query_city=(\"\"\"SELECT *\n",
    "                 FROM customers\n",
    "                 WHERE city=\"London\" OR city=\"Seattle\";\"\"\")"
   ]
  },
  {
   "cell_type": "code",
   "execution_count": 37,
   "metadata": {},
   "outputs": [],
   "source": [
    "mycursor.execute(query_city)"
   ]
  },
  {
   "cell_type": "code",
   "execution_count": 38,
   "metadata": {},
   "outputs": [],
   "source": [
    "ciudades=mycursor.fetchall()"
   ]
  },
  {
   "cell_type": "code",
   "execution_count": 39,
   "metadata": {},
   "outputs": [
    {
     "data": {
      "text/plain": [
       "[('AROUT',\n",
       "  'Around the Horn',\n",
       "  'Thomas Hardy',\n",
       "  'Sales Representative',\n",
       "  '120 Hanover Sq.',\n",
       "  'London',\n",
       "  None,\n",
       "  'WA1 1DP',\n",
       "  'UK',\n",
       "  '(171) 555-7788',\n",
       "  '(171) 555-6750'),\n",
       " ('BSBEV',\n",
       "  \"B's Beverages\",\n",
       "  'Victoria Ashworth',\n",
       "  'Sales Representative',\n",
       "  'Fauntleroy Circus',\n",
       "  'London',\n",
       "  None,\n",
       "  'EC2 5NT',\n",
       "  'UK',\n",
       "  '(171) 555-1212',\n",
       "  None),\n",
       " ('CONSH',\n",
       "  'Consolidated Holdings',\n",
       "  'Elizabeth Brown',\n",
       "  'Sales Representative',\n",
       "  'Berkeley Gardens 12  Brewery',\n",
       "  'London',\n",
       "  None,\n",
       "  'WX1 6LT',\n",
       "  'UK',\n",
       "  '(171) 555-2282',\n",
       "  '(171) 555-9199'),\n",
       " ('EASTC',\n",
       "  'Eastern Connection',\n",
       "  'Ann Devon',\n",
       "  'Sales Agent',\n",
       "  '35 King George',\n",
       "  'London',\n",
       "  None,\n",
       "  'WX3 6FW',\n",
       "  'UK',\n",
       "  '(171) 555-0297',\n",
       "  '(171) 555-3373'),\n",
       " ('NORTS',\n",
       "  'North/South',\n",
       "  'Simon Crowther',\n",
       "  'Sales Associate',\n",
       "  'South House 300 Queensbridge',\n",
       "  'London',\n",
       "  None,\n",
       "  'SW7 1RZ',\n",
       "  'UK',\n",
       "  '(171) 555-7733',\n",
       "  '(171) 555-2530'),\n",
       " ('SEVES',\n",
       "  'Seven Seas Imports',\n",
       "  'Hari Kumar',\n",
       "  'Sales Manager',\n",
       "  '90 Wadhurst Rd.',\n",
       "  'London',\n",
       "  None,\n",
       "  'OX15 4NB',\n",
       "  'UK',\n",
       "  '(171) 555-1717',\n",
       "  '(171) 555-5646'),\n",
       " ('WHITC',\n",
       "  'White Clover Markets',\n",
       "  'Karl Jablonski',\n",
       "  'Owner',\n",
       "  '305 - 14th Ave. S. Suite 3B',\n",
       "  'Seattle',\n",
       "  'WA',\n",
       "  '98128',\n",
       "  'USA',\n",
       "  '(206) 555-4112',\n",
       "  '(206) 555-4115')]"
      ]
     },
     "execution_count": 39,
     "metadata": {},
     "output_type": "execute_result"
    }
   ],
   "source": [
    "ciudades"
   ]
  },
  {
   "cell_type": "code",
   "execution_count": 40,
   "metadata": {},
   "outputs": [],
   "source": [
    "import pandas as pd"
   ]
  },
  {
   "cell_type": "code",
   "execution_count": 42,
   "metadata": {},
   "outputs": [],
   "source": [
    "df = pd.DataFrame(ciudades, columns = ['CostumerID', 'CompanyName', 'ContactName','ContactTitle','Address','City','Region','PostalCode','Country','Phone','Fax'])"
   ]
  },
  {
   "cell_type": "code",
   "execution_count": 43,
   "metadata": {},
   "outputs": [
    {
     "data": {
      "text/html": [
       "<div>\n",
       "<style scoped>\n",
       "    .dataframe tbody tr th:only-of-type {\n",
       "        vertical-align: middle;\n",
       "    }\n",
       "\n",
       "    .dataframe tbody tr th {\n",
       "        vertical-align: top;\n",
       "    }\n",
       "\n",
       "    .dataframe thead th {\n",
       "        text-align: right;\n",
       "    }\n",
       "</style>\n",
       "<table border=\"1\" class=\"dataframe\">\n",
       "  <thead>\n",
       "    <tr style=\"text-align: right;\">\n",
       "      <th></th>\n",
       "      <th>CostumerID</th>\n",
       "      <th>CompanyName</th>\n",
       "      <th>ContactName</th>\n",
       "      <th>ContactTitle</th>\n",
       "      <th>Address</th>\n",
       "      <th>City</th>\n",
       "      <th>Region</th>\n",
       "      <th>PostalCode</th>\n",
       "      <th>Country</th>\n",
       "      <th>Phone</th>\n",
       "      <th>Fax</th>\n",
       "    </tr>\n",
       "  </thead>\n",
       "  <tbody>\n",
       "    <tr>\n",
       "      <th>0</th>\n",
       "      <td>AROUT</td>\n",
       "      <td>Around the Horn</td>\n",
       "      <td>Thomas Hardy</td>\n",
       "      <td>Sales Representative</td>\n",
       "      <td>120 Hanover Sq.</td>\n",
       "      <td>London</td>\n",
       "      <td>None</td>\n",
       "      <td>WA1 1DP</td>\n",
       "      <td>UK</td>\n",
       "      <td>(171) 555-7788</td>\n",
       "      <td>(171) 555-6750</td>\n",
       "    </tr>\n",
       "    <tr>\n",
       "      <th>1</th>\n",
       "      <td>BSBEV</td>\n",
       "      <td>B's Beverages</td>\n",
       "      <td>Victoria Ashworth</td>\n",
       "      <td>Sales Representative</td>\n",
       "      <td>Fauntleroy Circus</td>\n",
       "      <td>London</td>\n",
       "      <td>None</td>\n",
       "      <td>EC2 5NT</td>\n",
       "      <td>UK</td>\n",
       "      <td>(171) 555-1212</td>\n",
       "      <td>None</td>\n",
       "    </tr>\n",
       "    <tr>\n",
       "      <th>2</th>\n",
       "      <td>CONSH</td>\n",
       "      <td>Consolidated Holdings</td>\n",
       "      <td>Elizabeth Brown</td>\n",
       "      <td>Sales Representative</td>\n",
       "      <td>Berkeley Gardens 12  Brewery</td>\n",
       "      <td>London</td>\n",
       "      <td>None</td>\n",
       "      <td>WX1 6LT</td>\n",
       "      <td>UK</td>\n",
       "      <td>(171) 555-2282</td>\n",
       "      <td>(171) 555-9199</td>\n",
       "    </tr>\n",
       "    <tr>\n",
       "      <th>3</th>\n",
       "      <td>EASTC</td>\n",
       "      <td>Eastern Connection</td>\n",
       "      <td>Ann Devon</td>\n",
       "      <td>Sales Agent</td>\n",
       "      <td>35 King George</td>\n",
       "      <td>London</td>\n",
       "      <td>None</td>\n",
       "      <td>WX3 6FW</td>\n",
       "      <td>UK</td>\n",
       "      <td>(171) 555-0297</td>\n",
       "      <td>(171) 555-3373</td>\n",
       "    </tr>\n",
       "    <tr>\n",
       "      <th>4</th>\n",
       "      <td>NORTS</td>\n",
       "      <td>North/South</td>\n",
       "      <td>Simon Crowther</td>\n",
       "      <td>Sales Associate</td>\n",
       "      <td>South House 300 Queensbridge</td>\n",
       "      <td>London</td>\n",
       "      <td>None</td>\n",
       "      <td>SW7 1RZ</td>\n",
       "      <td>UK</td>\n",
       "      <td>(171) 555-7733</td>\n",
       "      <td>(171) 555-2530</td>\n",
       "    </tr>\n",
       "  </tbody>\n",
       "</table>\n",
       "</div>"
      ],
      "text/plain": [
       "  CostumerID            CompanyName        ContactName          ContactTitle  \\\n",
       "0      AROUT        Around the Horn       Thomas Hardy  Sales Representative   \n",
       "1      BSBEV          B's Beverages  Victoria Ashworth  Sales Representative   \n",
       "2      CONSH  Consolidated Holdings    Elizabeth Brown  Sales Representative   \n",
       "3      EASTC     Eastern Connection          Ann Devon           Sales Agent   \n",
       "4      NORTS            North/South     Simon Crowther       Sales Associate   \n",
       "\n",
       "                        Address    City Region PostalCode Country  \\\n",
       "0               120 Hanover Sq.  London   None    WA1 1DP      UK   \n",
       "1             Fauntleroy Circus  London   None    EC2 5NT      UK   \n",
       "2  Berkeley Gardens 12  Brewery  London   None    WX1 6LT      UK   \n",
       "3                35 King George  London   None    WX3 6FW      UK   \n",
       "4  South House 300 Queensbridge  London   None    SW7 1RZ      UK   \n",
       "\n",
       "            Phone             Fax  \n",
       "0  (171) 555-7788  (171) 555-6750  \n",
       "1  (171) 555-1212            None  \n",
       "2  (171) 555-2282  (171) 555-9199  \n",
       "3  (171) 555-0297  (171) 555-3373  \n",
       "4  (171) 555-7733  (171) 555-2530  "
      ]
     },
     "execution_count": 43,
     "metadata": {},
     "output_type": "execute_result"
    }
   ],
   "source": [
    "df.head()"
   ]
  }
 ],
 "metadata": {
  "kernelspec": {
   "display_name": "base",
   "language": "python",
   "name": "python3"
  },
  "language_info": {
   "codemirror_mode": {
    "name": "ipython",
    "version": 3
   },
   "file_extension": ".py",
   "mimetype": "text/x-python",
   "name": "python",
   "nbconvert_exporter": "python",
   "pygments_lexer": "ipython3",
   "version": "3.12.7"
  }
 },
 "nbformat": 4,
 "nbformat_minor": 2
}
